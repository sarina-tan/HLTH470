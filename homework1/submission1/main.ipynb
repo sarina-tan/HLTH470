{
 "cells": [
  {
   "cell_type": "code",
   "execution_count": 3,
   "metadata": {},
   "outputs": [],
   "source": [
    "import pandas as pd"
   ]
  },
  {
   "cell_type": "code",
   "execution_count": 16,
   "metadata": {},
   "outputs": [],
   "source": [
    "cpsc_enroll = pd.read_csv(\"./data/CPSC_Enrollment_2015_07/CPSC_Enrollment_Info_2015_07.csv\")"
   ]
  },
  {
   "cell_type": "code",
   "execution_count": null,
   "metadata": {},
   "outputs": [
    {
     "name": "stderr",
     "output_type": "stream",
     "text": [
      "/var/folders/8z/787phzws1tj1pz4dty6ry7tm0000gn/T/ipykernel_10605/2288022406.py:1: DtypeWarning: Columns (10) have mixed types. Specify dtype option on import or set low_memory=False.\n",
      "  sa_df = pd.read_csv(\"./data/MA_Cnty_SA_2015_07/MA_Cnty_SA_2015_07.csv\")\n"
     ]
    }
   ],
   "source": [
    "sa_df = pd.read_csv(\"./data/MA_Cnty_SA_2015_07/MA_Cnty_SA_2015_07.csv\")"
   ]
  },
  {
   "cell_type": "code",
   "execution_count": 19,
   "metadata": {},
   "outputs": [],
   "source": [
    "cpsc_contract =pd.read_csv(\"./data/CPSC_Enrollment_2015_07/CPSC_Contract_Info_2015_07.csv\",encoding='iso-8859-1')"
   ]
  },
  {
   "cell_type": "code",
   "execution_count": 15,
   "metadata": {},
   "outputs": [
    {
     "data": {
      "text/plain": [
       "Plan ID\n",
       "801    415314\n",
       "802    343648\n",
       "803    220946\n",
       "804    142096\n",
       "805    108073\n",
       "        ...  \n",
       "228        28\n",
       "844        16\n",
       "278        10\n",
       "245         4\n",
       "244         4\n",
       "Name: count, Length: 359, dtype: int64"
      ]
     },
     "execution_count": 15,
     "metadata": {},
     "output_type": "execute_result"
    }
   ],
   "source": [
    "cpsc_df[\"Plan ID\"].value_counts()"
   ]
  },
  {
   "cell_type": "code",
   "execution_count": 21,
   "metadata": {},
   "outputs": [],
   "source": [
    "enroll_sa = pd.merge(cpsc_enroll,sa_df)"
   ]
  },
  {
   "cell_type": "code",
   "execution_count": 24,
   "metadata": {},
   "outputs": [
    {
     "data": {
      "text/html": [
       "<div>\n",
       "<style scoped>\n",
       "    .dataframe tbody tr th:only-of-type {\n",
       "        vertical-align: middle;\n",
       "    }\n",
       "\n",
       "    .dataframe tbody tr th {\n",
       "        vertical-align: top;\n",
       "    }\n",
       "\n",
       "    .dataframe thead th {\n",
       "        text-align: right;\n",
       "    }\n",
       "</style>\n",
       "<table border=\"1\" class=\"dataframe\">\n",
       "  <thead>\n",
       "    <tr style=\"text-align: right;\">\n",
       "      <th></th>\n",
       "      <th>Contract Number</th>\n",
       "      <th>Plan ID</th>\n",
       "      <th>SSA State County Code</th>\n",
       "      <th>FIPS State County Code</th>\n",
       "      <th>State</th>\n",
       "      <th>County</th>\n",
       "      <th>Enrollment</th>\n",
       "      <th>Contract ID</th>\n",
       "      <th>Organization Name</th>\n",
       "      <th>Organization Type</th>\n",
       "      <th>...</th>\n",
       "      <th>EGHP</th>\n",
       "      <th>SSA</th>\n",
       "      <th>FIPS</th>\n",
       "      <th>Notes</th>\n",
       "      <th>Offers Part D</th>\n",
       "      <th>SNP Plan</th>\n",
       "      <th>Organization Marketing Name</th>\n",
       "      <th>Plan Name</th>\n",
       "      <th>Parent Organization</th>\n",
       "      <th>Contract Effective Date</th>\n",
       "    </tr>\n",
       "  </thead>\n",
       "  <tbody>\n",
       "  </tbody>\n",
       "</table>\n",
       "<p>0 rows × 22 columns</p>\n",
       "</div>"
      ],
      "text/plain": [
       "Empty DataFrame\n",
       "Columns: [Contract Number, Plan ID, SSA State County Code, FIPS State County Code, State, County, Enrollment, Contract ID, Organization Name, Organization Type, Plan Type, Partial, EGHP, SSA, FIPS, Notes, Offers Part D, SNP Plan, Organization Marketing Name, Plan Name, Parent Organization, Contract Effective Date]\n",
       "Index: []\n",
       "\n",
       "[0 rows x 22 columns]"
      ]
     },
     "execution_count": 24,
     "metadata": {},
     "output_type": "execute_result"
    }
   ],
   "source": [
    "merge = pd.merge(enroll_sa, cpsc_contract)\n",
    "merge"
   ]
  },
  {
   "cell_type": "code",
   "execution_count": 23,
   "metadata": {},
   "outputs": [
    {
     "data": {
      "text/plain": [
       "Series([], Name: count, dtype: int64)"
      ]
     },
     "execution_count": 23,
     "metadata": {},
     "output_type": "execute_result"
    }
   ],
   "source": [
    "merge[\"Plan Type\"].value_counts()"
   ]
  },
  {
   "cell_type": "code",
   "execution_count": 14,
   "metadata": {},
   "outputs": [
    {
     "name": "stdout",
     "output_type": "stream",
     "text": [
      "     Plan ID  Average Enrollment\n",
      "0          1          543.882788\n",
      "1          2          434.051775\n",
      "2          3          531.661190\n",
      "3          4          538.269285\n",
      "4          5          446.389710\n",
      "..       ...                 ...\n",
      "354      842                 NaN\n",
      "355      843                 NaN\n",
      "356      844                 NaN\n",
      "357      855                 NaN\n",
      "358      999          410.721461\n",
      "\n",
      "[359 rows x 2 columns]\n"
     ]
    }
   ],
   "source": [
    "cpsc_df['Enrollment'] = pd.to_numeric(cpsc_df['Enrollment'], errors='coerce')\n",
    "avg_enrollment = cpsc_df.groupby('Plan ID')['Enrollment'].mean().reset_index()\n",
    "\n",
    "avg_enrollment.columns = ['Plan ID', 'Average Enrollment']\n",
    "print(avg_enrollment)"
   ]
  },
  {
   "cell_type": "code",
   "execution_count": null,
   "metadata": {},
   "outputs": [],
   "source": []
  }
 ],
 "metadata": {
  "kernelspec": {
   "display_name": "base",
   "language": "python",
   "name": "python3"
  },
  "language_info": {
   "codemirror_mode": {
    "name": "ipython",
    "version": 3
   },
   "file_extension": ".py",
   "mimetype": "text/x-python",
   "name": "python",
   "nbconvert_exporter": "python",
   "pygments_lexer": "ipython3",
   "version": "3.11.11"
  }
 },
 "nbformat": 4,
 "nbformat_minor": 2
}
